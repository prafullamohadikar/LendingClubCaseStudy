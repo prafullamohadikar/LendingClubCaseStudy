{
 "cells": [
  {
   "cell_type": "markdown",
   "id": "0b9e7276",
   "metadata": {},
   "source": [
    "# Lending Club Case Study\n",
    "1. The Lending Club Case Study involves a Consumer Finance Company which specializes in lending various types of loans to urban customers.\n",
    "2. AIM: To identify risky loan applicants to avoid loan allotment to such applicants to reduce amount of Credit Loss.\n",
    "3. Identifying driving factors behind loan defaults i.e. driver variables which are strong indicators of 'deafult'"
   ]
  },
  {
   "cell_type": "code",
   "execution_count": null,
   "id": "d70dc8d1",
   "metadata": {},
   "outputs": [],
   "source": [
    "# Import all the required libraries\n",
    "import pandas as pd\n",
    "import numpy as np\n",
    "import seaborn as sns                       #visualisation\n",
    "import matplotlib.pyplot as plt             #visualisation\n",
    "import plotly.express as px                 #visualisation\n",
    "import warnings\n",
    "%matplotlib inline     \n",
    "sns.set(color_codes=True)\n",
    "warnings.filterwarnings('ignore')\n",
    "\n",
    "pd.set_option('display.max_columns', 0)\n",
    "pd.set_option('display.max_rows', 500)"
   ]
  },
  {
   "cell_type": "code",
   "execution_count": null,
   "id": "7470c14e",
   "metadata": {},
   "outputs": [],
   "source": [
    "# Function to get information about dataset provided\n",
    "def get_dataset_info(name_of_dataset: str, df: pd.DataFrame, show_details=False):\n",
    "    \n",
    "    # Information about Data Set\n",
    "    print(f\"\\n {name_of_dataset} Information: \\n-------------------------\")\n",
    "\n",
    "    # Number of Columns and Rows\n",
    "    print(f\"Columns: {df.shape[1]} \\nRows: {df.shape[0]}\")\n",
    "    \n",
    "    if show_details:\n",
    "        print(f\"\\n\\n{df.dtypes}\\n\")"
   ]
  },
  {
   "cell_type": "markdown",
   "id": "f6873198",
   "metadata": {},
   "source": [
    "### Reading Loan Dataset file\n",
    "Data Set file contains complete loan data for all loans issued through the time period 2007 t0 2011."
   ]
  },
  {
   "cell_type": "code",
   "execution_count": null,
   "id": "b7fb3913",
   "metadata": {},
   "outputs": [],
   "source": [
    "# Read Data Set file \n",
    "loan_df = pd.read_csv(\"loan.csv\")"
   ]
  },
  {
   "cell_type": "markdown",
   "id": "3183ca7e",
   "metadata": {},
   "source": [
    "### Get the overview of the Data Set"
   ]
  },
  {
   "cell_type": "code",
   "execution_count": null,
   "id": "73b043f1",
   "metadata": {},
   "outputs": [],
   "source": [
    "loan_df.head()"
   ]
  },
  {
   "cell_type": "code",
   "execution_count": null,
   "id": "e9e2eb73",
   "metadata": {
    "scrolled": true
   },
   "outputs": [],
   "source": [
    "# Information about Loan Data Set\n",
    "get_dataset_info(name_of_dataset=\"Loan Dataset\", df=loan_df, show_details=False)"
   ]
  },
  {
   "cell_type": "code",
   "execution_count": null,
   "id": "5ecc8dd8",
   "metadata": {},
   "outputs": [],
   "source": [
    "loan_df.isnull().sum().sort_values(ascending=False)"
   ]
  },
  {
   "cell_type": "markdown",
   "id": "a6e758b9",
   "metadata": {},
   "source": [
    "## 1. Data Cleaning\n",
    "<span style='background:Gainsboro'>Data Cleaning is the process to resolves various data quality issues from the source to get useful data for Analysis. We are using the following Data cleaning techniques to clean up the Loan Dataset. </span>"
   ]
  },
  {
   "cell_type": "markdown",
   "id": "27293dcd",
   "metadata": {},
   "source": [
    "#### 1.1 Fixing Rows and Columns\n",
    "- <font color=\"blue\">Delete unnecessary columns - Based of the above dataset there are many Columns having only `null values` so dropping them</font>\n",
    "- <font color=\"blue\">Rename columns consistently - Renaming Column names like issue_d as issue_date, last_credit_pull_d= last_credit_pull_date</font>\n",
    "- <font color=\"lightgrey\">Delete incorrect rows, Delete Summary Rows, Delete Extra Rows - Not Found\n",
    "</font>\n",
    "- <font color=\"lightgrey\">Add column names if missing, Split columns for more Data, Merge columns for identifiers, Align misaligned columns -> not required </font>"
   ]
  },
  {
   "cell_type": "code",
   "execution_count": null,
   "id": "72365ccd",
   "metadata": {},
   "outputs": [],
   "source": [
    "# Dropping columns having only null values\n",
    "loan_df.dropna(how='all', axis=1, inplace=True)"
   ]
  },
  {
   "cell_type": "code",
   "execution_count": null,
   "id": "c27edf70",
   "metadata": {},
   "outputs": [],
   "source": [
    "# Rename column names\n",
    "loan_df.rename(columns={'issue_d': 'issue_date',\n",
    "                        'last_credit_pull_d': 'last_credit_pull_date',\n",
    "                        'last_pymnt_d': 'last_pymnt_date'}, inplace=True)"
   ]
  },
  {
   "cell_type": "markdown",
   "id": "ed8343e3",
   "metadata": {},
   "source": [
    "- <font color=\"blue\">Checking the percentage of missing values in each column with more than threshold of 0 percentage</font> <font color=\"lightgrey\">(for visibility)</font>"
   ]
  },
  {
   "cell_type": "code",
   "execution_count": null,
   "id": "8de00082",
   "metadata": {},
   "outputs": [],
   "source": [
    "column_empty_stat = (loan_df.isnull().mean() * 100).round(2)\n",
    "column_empty_stat[column_empty_stat > 0]"
   ]
  },
  {
   "cell_type": "markdown",
   "id": "3424d27f",
   "metadata": {},
   "source": [
    "- <font color=\"blue\">Dropping Columns with more than 40% of NULL Values based on Empty Column Value Stats</font>"
   ]
  },
  {
   "cell_type": "code",
   "execution_count": null,
   "id": "c06e6b32",
   "metadata": {},
   "outputs": [],
   "source": [
    "# Getting column names which are having empty value more than 40%\n",
    "drop_missing_value_columns = loan_df.columns[column_empty_stat > 40]\n",
    "\n",
    "loan_df.drop(columns=drop_missing_value_columns, axis=1, inplace=True)"
   ]
  },
  {
   "cell_type": "markdown",
   "id": "dd704ff5",
   "metadata": {},
   "source": [
    "#### 1.2 Standardize Values\n",
    "Standardizing Columns as stated below:\n",
    "- <font color=\"blue\">Column `zip_code` sould be standardised by considering only first three characters</font>\n",
    "- <font color=\"blue\">Columns `int_rate`, `revol_util` should be standardised by removing percentage suffix. Invalid values should be fixed by converting from String to Float</font>\n",
    "- <font color=\"blue\">Column `verification_status` have values `Verified and Source Verified` which are same, so replace `Source Verified` with `Verified`</font>\n",
    "- <font color=\"blue\">Columns `grade`, `sub_grade`, `home_ownership`, `verification_status`, `purpose` and `addr_state` should be standardised by converting to datatype category</font>"
   ]
  },
  {
   "cell_type": "code",
   "execution_count": null,
   "id": "4c177dee",
   "metadata": {},
   "outputs": [],
   "source": [
    "# standardised zip_code by considering only first 3 numbers\n",
    "loan_df.zip_code = loan_df.zip_code.apply(lambda x: str(x)[0:3]).astype('string')"
   ]
  },
  {
   "cell_type": "code",
   "execution_count": null,
   "id": "541d32fd",
   "metadata": {},
   "outputs": [],
   "source": [
    "loan_df.int_rate = loan_df.int_rate.apply(lambda x: str(x).replace(\"%\", \"\").strip()).astype(\"float64\")\n",
    "loan_df.revol_util = loan_df.revol_util.apply(lambda x: str(x).replace(\"%\", \"\")).astype(\"float64\")"
   ]
  },
  {
   "cell_type": "code",
   "execution_count": null,
   "id": "f4ec4413",
   "metadata": {},
   "outputs": [],
   "source": [
    "loan_df.verification_status = loan_df.verification_status.apply(lambda x: str(x).replace(\"Source Verified\", \"Verified\"))"
   ]
  },
  {
   "cell_type": "code",
   "execution_count": null,
   "id": "7fbc506d",
   "metadata": {},
   "outputs": [],
   "source": [
    "# Converting Columns to type category\n",
    "loan_df.grade=loan_df.grade.astype('category')\n",
    "loan_df.sub_grade=loan_df.sub_grade.astype('category')\n",
    "loan_df.home_ownership=loan_df.home_ownership.astype('category')\n",
    "loan_df.verification_status=loan_df.verification_status.astype('category')\n",
    "loan_df.purpose=loan_df.purpose.astype('category')\n",
    "loan_df.addr_state=loan_df.addr_state.astype('category')"
   ]
  },
  {
   "cell_type": "markdown",
   "id": "2ae194e7",
   "metadata": {},
   "source": [
    "#### 1.3 Fix Invalid Values\n",
    "- <font color=\"blue\">The `issue_date`, `earliest_cr_line` and `last_credit_pull_date` columns sould be fixed by converting them to datetime</font>"
   ]
  },
  {
   "cell_type": "code",
   "execution_count": null,
   "id": "a04216ff",
   "metadata": {
    "scrolled": true
   },
   "outputs": [],
   "source": [
    "# Convert date related columns to datetime\n",
    "loan_df.issue_date = pd.to_datetime(loan_df.issue_date, format=\"%b-%y\")\n",
    "loan_df.earliest_cr_line = pd.to_datetime(loan_df.earliest_cr_line, format='%b-%y')\n",
    "loan_df.last_credit_pull_date = pd.to_datetime(loan_df.last_credit_pull_date, format='%b-%y')\n",
    "loan_df.last_pymnt_date = pd.to_datetime(loan_df.last_pymnt_date, format=\"%b-%y\")\n",
    "\n",
    "loan_df['issue_year'] = pd.to_datetime(loan_df.issue_date, format=\"%b-%y\").dt.year\n",
    "loan_df['issue_month'] = pd.to_datetime(loan_df.issue_date, format=\"%b-%y\").dt.month"
   ]
  },
  {
   "cell_type": "markdown",
   "id": "61b47335",
   "metadata": {},
   "source": [
    "#### 1.4 Filter Data\n",
    "##### <font color=\"blue\">Dropping irrelevant or duplicate columns</font>\n",
    "- <font color=\"blue\">Filtering the Columns having non-unique single value which are irrelevant for Analysis and dropping them</font>\n",
    "- <font color=\"blue\">Filtering the Columns like `id`, `member_id`, `url` and `title` which are irrelevant for Analysis and dropping them</font>\n",
    "- <font color=\"blue\">Dropping Columns like `desc`, `funded_amnt_inv`, `out_prncp_inv`, `total_pymnt_inv` as data cannot be analysed</font>\n",
    "- <font color=\"blue\">Dropping Column `emp_title` as `purpose` column is available</font>\n",
    "- <font color=\"blue\">Dropping Column `zip_code` as `state` column is available</font>\n",
    "- <font color=\"blue\">Dropping rows from `loan_status` column which are `Current` as it is not needed for analysis</font>\n",
    "- <font color=\"blue\">Dropping Column `funded_amount` as `loan_amount` column is same which will be used for analysis</font>"
   ]
  },
  {
   "cell_type": "code",
   "execution_count": null,
   "id": "e5de3ccb",
   "metadata": {},
   "outputs": [],
   "source": [
    "# Below are the columns having same value for all rows\n",
    "print(loan_df.nunique(axis=0)[lambda x: x == 1])\n",
    "non_unique_columns = loan_df.loc[:, loan_df.nunique() == 1].columns"
   ]
  },
  {
   "cell_type": "code",
   "execution_count": null,
   "id": "73f419fe",
   "metadata": {},
   "outputs": [],
   "source": [
    "# Drop Columns having non unique values and are irrelevant for Analysis\n",
    "loan_df.drop(columns=non_unique_columns, inplace=True)"
   ]
  },
  {
   "cell_type": "code",
   "execution_count": null,
   "id": "7777d138",
   "metadata": {},
   "outputs": [],
   "source": [
    "# Drop Columns having unique ids and are irrelevant for Analysis\n",
    "loan_df.drop(columns=[\"id\", \"member_id\", \"url\", \"title\"], inplace=True)"
   ]
  },
  {
   "cell_type": "code",
   "execution_count": null,
   "id": "e1acd56d",
   "metadata": {},
   "outputs": [],
   "source": [
    "# Dropping columns as these does not relate directly to Borrower's loan information\n",
    "loan_df.drop(columns=[\"funded_amnt_inv\", \"out_prncp_inv\", \"total_pymnt_inv\"], axis=1, inplace=True)"
   ]
  },
  {
   "cell_type": "code",
   "execution_count": null,
   "id": "c43dcf54",
   "metadata": {},
   "outputs": [],
   "source": [
    "# Dropping column desc as information needs text processing which is currently out of scope\n",
    "loan_df.drop(columns=[\"desc\"], axis=1, inplace=True)"
   ]
  },
  {
   "cell_type": "code",
   "execution_count": null,
   "id": "e3a6c62d",
   "metadata": {},
   "outputs": [],
   "source": [
    "# Dropping column emp_title as information can be computed from purpose column\n",
    "loan_df.drop(columns=[\"emp_title\"], axis=1, inplace=True)"
   ]
  },
  {
   "cell_type": "code",
   "execution_count": null,
   "id": "4037dab4",
   "metadata": {},
   "outputs": [],
   "source": [
    "# Dropping column zipcode as information can be computed from state column\n",
    "loan_df.drop(columns=[\"zip_code\"], axis=1, inplace=True)"
   ]
  },
  {
   "cell_type": "code",
   "execution_count": null,
   "id": "10323427",
   "metadata": {},
   "outputs": [],
   "source": [
    "# Dropping rows for Current loan_status\n",
    "loan_df.drop(loan_df[loan_df.loan_status == \"Current\"].index, inplace=True)"
   ]
  },
  {
   "cell_type": "code",
   "execution_count": null,
   "id": "6e406e3d",
   "metadata": {},
   "outputs": [],
   "source": [
    "# Dropping column for funded_amount\n",
    "loan_df.drop(columns=['funded_amnt'], inplace=True)"
   ]
  },
  {
   "cell_type": "markdown",
   "id": "71ef4d76",
   "metadata": {},
   "source": [
    "#### 1.5 Fix Missing Values\n",
    "- <font color=\"blue\">Checking the percentage of missing values in each column after cleanup and there datatypes</font> <font color=\"lightgrey\">(for visibility)</font>\n",
    "- <font color=\"blue\">Filling empty cells in column, based on column datatype</font>"
   ]
  },
  {
   "cell_type": "code",
   "execution_count": null,
   "id": "71b7852d",
   "metadata": {},
   "outputs": [],
   "source": [
    "column_empty_stat = (loan_df.isnull().mean() * 100).round(2)\n",
    "column_empty_stat[column_empty_stat > 0]"
   ]
  },
  {
   "cell_type": "code",
   "execution_count": null,
   "id": "fd6a53d0",
   "metadata": {},
   "outputs": [],
   "source": [
    "loan_df[loan_df.columns[column_empty_stat > 0]].dtypes"
   ]
  },
  {
   "cell_type": "markdown",
   "id": "d1873998",
   "metadata": {},
   "source": [
    "- <font color=\"blue\">Fill mode inplace of missing values for `emp_length`, `emp_title`, `last_pymnt_date`, `last_credit_pull_date` and `pub_rec_bankruptcies` column</font>"
   ]
  },
  {
   "cell_type": "code",
   "execution_count": null,
   "id": "c6334dd0",
   "metadata": {
    "scrolled": true
   },
   "outputs": [],
   "source": [
    "# Fill mode value for emp_length column\n",
    "loan_df.emp_length.fillna(loan_df.emp_length.mode()[0], inplace=True)"
   ]
  },
  {
   "cell_type": "code",
   "execution_count": null,
   "id": "4240320d",
   "metadata": {},
   "outputs": [],
   "source": [
    "# Fill mode value for last_pymnt_date column\n",
    "loan_df.last_pymnt_date.fillna(loan_df.last_pymnt_date.mode()[0], inplace=True)"
   ]
  },
  {
   "cell_type": "code",
   "execution_count": null,
   "id": "df5f0cea",
   "metadata": {},
   "outputs": [],
   "source": [
    "# Fill mode value for last_credit_pull_date column\n",
    "loan_df.last_credit_pull_date.fillna(loan_df.last_credit_pull_date.mode()[0], inplace=True)"
   ]
  },
  {
   "cell_type": "code",
   "execution_count": null,
   "id": "573b935c",
   "metadata": {},
   "outputs": [],
   "source": [
    "# Fill mode value for pub_rec_bankruptcies column\n",
    "loan_df.pub_rec_bankruptcies.fillna(loan_df.pub_rec_bankruptcies.mode()[0], inplace=True)"
   ]
  },
  {
   "cell_type": "markdown",
   "id": "1abc4ace",
   "metadata": {},
   "source": [
    "- <font color=\"blue\">Fill median inplace of missing values for `revol_util` column</font>"
   ]
  },
  {
   "cell_type": "code",
   "execution_count": null,
   "id": "67edb5a7",
   "metadata": {},
   "outputs": [],
   "source": [
    "loan_df.revol_util.fillna(loan_df.revol_util.median(), inplace=True)"
   ]
  },
  {
   "cell_type": "markdown",
   "id": "f6086263",
   "metadata": {},
   "source": [
    "#### 1.6  Detecting Outliers\n",
    "- <font color=\"blue\">An outlier is a point or set of points that are different from other points</font>\n",
    "- <font color=\"blue\">We need to detect and remove outliers because outliers are one of the primary reasons for resulting in a less accurate model</font>"
   ]
  },
  {
   "cell_type": "code",
   "execution_count": null,
   "id": "9322a4ec",
   "metadata": {},
   "outputs": [],
   "source": [
    "# Getting columns having datatypes float and int and checking there size\n",
    "df_for_outlier = loan_df.select_dtypes(include=['float64', 'int64'])\n",
    "columns_to_drop_outliers = df_for_outlier.columns\n",
    "df_for_outlier.shape"
   ]
  },
  {
   "cell_type": "markdown",
   "id": "a3018a0c",
   "metadata": {},
   "source": [
    "<font color=\"blue\">Getting First Quartile, Third Quartile and Interquartile Range</font>"
   ]
  },
  {
   "cell_type": "code",
   "execution_count": null,
   "id": "dc140d4d",
   "metadata": {
    "scrolled": false
   },
   "outputs": [],
   "source": [
    "quartile_1 = df_for_outlier.quantile(0.25)\n",
    "quartile_3 = df_for_outlier.quantile(0.75)\n",
    "iqr = quartile_3 - quartile_1\n",
    "print(iqr)"
   ]
  },
  {
   "cell_type": "markdown",
   "id": "c4bfb950",
   "metadata": {},
   "source": [
    "- <font color=\"blue\">Based on above IQRs of the quantitative columns ploting maps of some columns to find if there are any outliers</font>"
   ]
  },
  {
   "cell_type": "code",
   "execution_count": null,
   "id": "e19208aa",
   "metadata": {
    "scrolled": false
   },
   "outputs": [],
   "source": [
    "# Plotting Spread of Loan Amount\n",
    "sns.boxplot(x=loan_df.loan_amnt)"
   ]
  },
  {
   "cell_type": "code",
   "execution_count": null,
   "id": "cdac5ff1",
   "metadata": {
    "scrolled": false
   },
   "outputs": [],
   "source": [
    "# Plotting Spread of Annual Income\n",
    "sns.boxplot(x=loan_df.annual_inc)"
   ]
  },
  {
   "cell_type": "code",
   "execution_count": null,
   "id": "9748e692",
   "metadata": {
    "scrolled": false
   },
   "outputs": [],
   "source": [
    "# Plotting Spread of Debt to Income Ratio\n",
    "sns.boxplot(x=loan_df.dti)"
   ]
  },
  {
   "cell_type": "markdown",
   "id": "2e17a59c",
   "metadata": {},
   "source": [
    "<font color=\"blue\">Removing Outlier for column Annual Income with 99 percentile as there are some outliers beyond this range</font>"
   ]
  },
  {
   "cell_type": "code",
   "execution_count": null,
   "id": "60374397",
   "metadata": {},
   "outputs": [],
   "source": [
    "loan_df = loan_df[loan_df.annual_inc <= np.percentile(loan_df.annual_inc,99)]"
   ]
  },
  {
   "cell_type": "markdown",
   "id": "7086bd88",
   "metadata": {},
   "source": [
    "**Conclusion:  <font color=\"blue\">Data is now cleaned for Analysis and below is the size for the cleaned dataset</font>**"
   ]
  },
  {
   "cell_type": "code",
   "execution_count": null,
   "id": "110c6b0d",
   "metadata": {
    "scrolled": true
   },
   "outputs": [],
   "source": [
    "# Information about Loan Data Set\n",
    "get_dataset_info(name_of_dataset=\"Loan Dataset\", df=loan_df, show_details=False)"
   ]
  },
  {
   "cell_type": "markdown",
   "id": "1e9b9add",
   "metadata": {},
   "source": [
    "## 2. Univariate Analysis\n",
    "<span style='background:Gainsboro'>Univariate Analysis  deals with analysing variables one at a time</span><br>\n",
    "<span style='background:Gainsboro'>Univariate analysis is classified into two types:</span>\n",
    "- <span style='background:Gainsboro'>**Categorial Univariate Analysis**</span>\n",
    "  - <span style='background:Gainsboro'>**Unordered Categorial Univariate Analysis**</span>\n",
    "  - <span style='background:Gainsboro'>**Ordered Categorial Univariate Analysis**</span>\n",
    "- <span style='background:Gainsboro'>**Quantitative Univariate Analysis**</span>"
   ]
  },
  {
   "cell_type": "markdown",
   "id": "f7ca6245",
   "metadata": {},
   "source": [
    "## Unordered Categorial Univariate Analysis\n",
    "Analysis is done using single variable and its count. The variable involved does not have and sort of ordering"
   ]
  },
  {
   "cell_type": "code",
   "execution_count": null,
   "id": "13493e8d",
   "metadata": {
    "scrolled": false
   },
   "outputs": [],
   "source": [
    "# Plot Countplot graph for sub_grade column to find Univariate Analysis\n",
    "plt.figure(figsize=(10,5))\n",
    "sns.countplot(x='sub_grade', data=loan_df, order=loan_df.sub_grade.value_counts(ascending=False).index, palette='spring')\n",
    "plt.title(\"Unordered Categorial Univariate Analysis (Sub-Grade)\", fontsize=15)\n",
    "plt.xlabel(\"Sub Grade\", fontsize=15)\n",
    "plt.ylabel(\"Count\", fontsize=15)"
   ]
  },
  {
   "cell_type": "markdown",
   "id": "247dbd88",
   "metadata": {},
   "source": [
    "**Inference: <font color=\"blue\">The Loan procuring frequency is falling for borrowers having Sub-Grade from `E1` and above</font>**"
   ]
  },
  {
   "cell_type": "code",
   "execution_count": null,
   "id": "f6557ff4",
   "metadata": {
    "scrolled": false
   },
   "outputs": [],
   "source": [
    "# Plot Countplot graph for home_ownership column to find Univariate Analysis\n",
    "plt.figure(figsize=(10,5))\n",
    "sns.countplot(x='home_ownership', data=loan_df, hue=loan_df.loan_status, order=loan_df.home_ownership.value_counts(ascending=False).index, palette='rocket')\n",
    "plt.title(\"Unordered Categorial Univariate Analysis (Home Ownership)\", fontsize=15)\n",
    "plt.xlabel(\"Home Ownership\", fontsize=15)\n",
    "plt.ylabel(\"Count\", fontsize=15)"
   ]
  },
  {
   "cell_type": "markdown",
   "id": "dd81219f",
   "metadata": {},
   "source": [
    "**Inference: <font color=\"blue\">Maximum amont of Loans are taken by borrowers who live in `Rented` or `Mortgage` House and majority defaulters lie under same category </font>**"
   ]
  },
  {
   "cell_type": "code",
   "execution_count": null,
   "id": "27828031",
   "metadata": {
    "scrolled": false
   },
   "outputs": [],
   "source": [
    "# Plot Countplot graph for loan_status column to find Univariate Analysis\n",
    "plt.figure(figsize=(10,5))\n",
    "sns.countplot(x='loan_status', data=loan_df, order=loan_df.loan_status.value_counts(ascending=False).index, palette='spring')\n",
    "plt.title(\"Unordered Categorial Univariate Analysis (Loan Status)\", fontsize=15)\n",
    "plt.xlabel(\"Loan Status\", fontsize=15)\n",
    "plt.ylabel(\"Count\", fontsize=15)"
   ]
  },
  {
   "cell_type": "markdown",
   "id": "468d7e74",
   "metadata": {},
   "source": [
    "**Inference: <font color=\"blue\">Almost `13%` borrowers have defaulted</font>**"
   ]
  },
  {
   "cell_type": "markdown",
   "id": "84a51501",
   "metadata": {},
   "source": [
    "## Ordered Categorial Univariate Analysis\n",
    "Analysis is done using single variable and its count. The variable involved does have some ordering based on date or numerical values"
   ]
  },
  {
   "cell_type": "code",
   "execution_count": null,
   "id": "9bddcd30",
   "metadata": {},
   "outputs": [],
   "source": [
    "# Plot Countplot graph for term column to find Univariate Analysis\n",
    "plt.figure(figsize=(15,5))\n",
    "sns.countplot(x='term', data=loan_df, palette='spring')\n",
    "plt.title(\"Ordered Categorial Univariate Analysis (Term)\", fontsize=15)\n",
    "plt.xlabel(\"Term\", fontsize=15)\n",
    "plt.ylabel(\"Count\", fontsize=15)"
   ]
  },
  {
   "cell_type": "markdown",
   "id": "1b787a5d",
   "metadata": {},
   "source": [
    "**Inference: <font color=\"blue\">`75%` Loans are borrowed for less duration i.e. `36 Months` than `60 Months` </font>**"
   ]
  },
  {
   "cell_type": "code",
   "execution_count": null,
   "id": "6866c348",
   "metadata": {
    "scrolled": false
   },
   "outputs": [],
   "source": [
    "# Plot Countplot graph for pub_rec_bankruptcies column to find Univariate Analysis\n",
    "plt.figure(figsize=(10,5))\n",
    "sns.countplot(x='pub_rec_bankruptcies', data=loan_df, palette='spring')\n",
    "plt.title(\"Ordered Categorial Univariate Analysis (Public Bankrupcy Record)\", fontsize=15)\n",
    "plt.xlabel(\"Public Record of Bankrupcy\", fontsize=15)\n",
    "plt.ylabel(\"Count\", fontsize=15)"
   ]
  },
  {
   "cell_type": "markdown",
   "id": "cc9c19d4",
   "metadata": {},
   "source": [
    "**Inference: <font color=\"blue\">Very small percentage of borrowers have Public Bankrupcy Records</font>**"
   ]
  },
  {
   "cell_type": "code",
   "execution_count": null,
   "id": "c19789fa",
   "metadata": {
    "scrolled": false
   },
   "outputs": [],
   "source": [
    "# Plot Countplot graph for issue_year column to find Univariate Analysis\n",
    "plt.figure(figsize=(10,5))\n",
    "sns.countplot(x='issue_year', data=loan_df, palette='spring')\n",
    "plt.title(\"Ordered Categorial Univariate Analysis (Issue Year)\", fontsize=15)\n",
    "plt.xlabel(\"Issue Year\", fontsize=15)\n",
    "plt.ylabel(\"Count\", fontsize=15)"
   ]
  },
  {
   "cell_type": "markdown",
   "id": "c396b70d",
   "metadata": {},
   "source": [
    "**Inference: <font color=\"blue\">Rate of issuing loans increases with time exponentially. Loans borrowed in year 2011 is almost 7 times then year 2008</font>**"
   ]
  },
  {
   "cell_type": "code",
   "execution_count": null,
   "id": "40674e52",
   "metadata": {
    "scrolled": true
   },
   "outputs": [],
   "source": [
    "# Plot Countplot graph for issue_month column to find Univariate Analysis\n",
    "plt.figure(figsize=(10,5))\n",
    "sns.countplot(x='issue_month', data=loan_df, palette='spring')\n",
    "plt.title(\"Ordered Categorial Univariate Analysis (Issue Month)\", fontsize=20)\n",
    "plt.xlabel(\"Issue Month\", fontsize=15)\n",
    "plt.ylabel(\"Count\", fontsize=15)"
   ]
  },
  {
   "cell_type": "markdown",
   "id": "c77a978a",
   "metadata": {},
   "source": [
    "**Inference: <font color=\"blue\">The Volume of Loan borrowing increases at last quarter of the year which indicates borrowers tend to settle there debt consolidations by year end</font>**"
   ]
  },
  {
   "cell_type": "markdown",
   "id": "7b72c0a9",
   "metadata": {},
   "source": [
    "## Quantitative Univariate Analysis"
   ]
  },
  {
   "cell_type": "code",
   "execution_count": null,
   "id": "82e8cb91",
   "metadata": {},
   "outputs": [],
   "source": [
    "# Histogram (Rank Frequency) plot for distribution of loan_amount\n",
    "plt.figure(figsize=(10,5))\n",
    "sns.histplot(loan_df.loan_amnt, kde=True, bins=30)\n",
    "plt.xlabel('Loan Amount')\n",
    "plt.ylabel('Count')\n",
    "plt.title('Quantitative Univariate Analysis (Loan Amount)', fontsize=12)\n",
    "plt.show()"
   ]
  },
  {
   "cell_type": "markdown",
   "id": "b901f291",
   "metadata": {},
   "source": [
    "**Inference: <font color=\"blue\">Maximum loans are borrowed for amount between 5000 to 15000 </font>**"
   ]
  },
  {
   "cell_type": "code",
   "execution_count": null,
   "id": "2c3d9380",
   "metadata": {
    "scrolled": false
   },
   "outputs": [],
   "source": [
    "# Histogram (Rank Frequency) Plot for interest_rate column to find Univariate Analysis\n",
    "plt.figure(figsize=(15,5))\n",
    "sns.histplot(sorted(loan_df.int_rate), kde=True)\n",
    "plt.title(\"Quantitative Univariate Analysis (Interest Rate)\", fontsize=20)\n",
    "plt.xlabel(\"Interest Rate\", fontsize=15)\n",
    "plt.ylabel(\"Count\", fontsize=15)"
   ]
  },
  {
   "cell_type": "markdown",
   "id": "81979d75",
   "metadata": {},
   "source": [
    "**Inference**: \n",
    "- **<font color=\"blue\">More Loans are borrowed by interest rates around 5-8% and 10-15%. The quantity of loans borrowed decreases after 15%</font>**\n",
    "- **<font color=\"blue\">no loan is borrowed below 6% and more than 23%</font>**"
   ]
  },
  {
   "cell_type": "code",
   "execution_count": null,
   "id": "b23a1745",
   "metadata": {
    "scrolled": false
   },
   "outputs": [],
   "source": [
    "# Histogram (Rank Frequency) plot for distribution of annual_inc\n",
    "plt.figure(figsize=(10,5))\n",
    "sns.histplot(loan_df.annual_inc, kde=True, bins=30)\n",
    "plt.title('Quantitative Univariate Analysis (Annual Income)', fontsize=15)\n",
    "plt.xlabel('Annual Income', fontsize=15)\n",
    "plt.ylabel('Count', fontsize=15)\n",
    "plt.show()"
   ]
  },
  {
   "cell_type": "markdown",
   "id": "16af4cb4",
   "metadata": {},
   "source": [
    "**Inference: <font color=\"blue\">Majority loans borrowers have less Annual Income as the histogram show left skewed normal distribution</font>**"
   ]
  },
  {
   "cell_type": "code",
   "execution_count": null,
   "id": "9b2563c5",
   "metadata": {
    "scrolled": false
   },
   "outputs": [],
   "source": [
    "# Histogram (Rank Frequency) plot for distribution of dti\n",
    "plt.figure(figsize=(10,5))\n",
    "sns.histplot(loan_df.dti, kde=True, bins=20)\n",
    "plt.title('Quantitative Univariate Analysis (Debt to Income Ratio)', fontsize=15)\n",
    "plt.xlabel('Debt to Income Ratio', fontsize=15)\n",
    "plt.ylabel('Count', fontsize=15)\n",
    "plt.show()"
   ]
  },
  {
   "cell_type": "markdown",
   "id": "dfecd4e4",
   "metadata": {},
   "source": [
    "**Inference: <font color=\"blue\">Debt to Income ratio is concentrated more between range `10` to `20` of `dti`</font>**"
   ]
  },
  {
   "cell_type": "markdown",
   "id": "462ea552",
   "metadata": {},
   "source": [
    "## 3. Segmented Univariate Analysis\n",
    "Analysis is done grouping data on dimensions, comparision of averages and comparision of other metrics"
   ]
  },
  {
   "cell_type": "code",
   "execution_count": null,
   "id": "8187f7b1",
   "metadata": {},
   "outputs": [],
   "source": [
    "# Box plot for distribution of Loan amount group\n",
    "plt.figure(figsize=(8,5))\n",
    "sns.boxplot(data=loan_df, x=loan_df.loan_amnt, y=loan_df.loan_status, palette='spring')\n",
    "plt.title('Segmented Univariate Analysis (Loan Amount)', fontsize=15)\n",
    "plt.xlabel('Loan Amount', fontsize=15)\n",
    "plt.ylabel('Count', fontsize=15)\n",
    "plt.show()"
   ]
  },
  {
   "cell_type": "markdown",
   "id": "9d136d88",
   "metadata": {},
   "source": [
    "**Inference: <font color=\"blue\">Loan defaults increases with the increase in loan amount as default has 3rd quartile higher than paid-off</font>**"
   ]
  },
  {
   "cell_type": "code",
   "execution_count": null,
   "id": "a6cce927",
   "metadata": {},
   "outputs": [],
   "source": [
    "# Histogram plot for distribution of Interest rates\n",
    "plt.figure(figsize=(8,5))\n",
    "sns.histplot(data=loan_df, x=loan_df.int_rate, hue=loan_df.loan_status, kde=True, bins=20)\n",
    "plt.title('Segmented Univariate Analysis (Intrest Rate)', fontsize=15)\n",
    "plt.xlabel('Interest Rate', fontsize=15)\n",
    "plt.ylabel('Count', fontsize=15)\n",
    "plt.show()"
   ]
  },
  {
   "cell_type": "markdown",
   "id": "ae3a861a",
   "metadata": {},
   "source": [
    "**Inference: <font color=\"blue\">Loan defaults increases with the increase in interest rate </font>**"
   ]
  },
  {
   "cell_type": "code",
   "execution_count": null,
   "id": "ce41c7ed",
   "metadata": {},
   "outputs": [],
   "source": [
    "# Histogram plot for distribution of anual income group\n",
    "plt.figure(figsize=(8,5))\n",
    "sns.histplot(data=loan_df, x=loan_df.annual_inc, hue=loan_df.loan_status, kde=True, bins=10)\n",
    "plt.title('Segmented Univariate Analysis (Annual Income)', fontsize=15)\n",
    "plt.xlabel('Annual Income', fontsize=15)\n",
    "plt.ylabel('Count', fontsize=15)\n",
    "plt.show()"
   ]
  },
  {
   "cell_type": "markdown",
   "id": "05b8e9dc",
   "metadata": {},
   "source": [
    "**Inference: <font color=\"blue\">Loan defaults decreases with the increase in annual income. Annual Income is inversely proportional to Loan Defaults </font>**"
   ]
  },
  {
   "cell_type": "code",
   "execution_count": null,
   "id": "a0ef9230",
   "metadata": {},
   "outputs": [],
   "source": [
    "# Histogram plot for distribution of annual_inc group\n",
    "plt.figure(figsize=(8,5))\n",
    "sns.histplot(data=loan_df, x=loan_df.dti, hue=loan_df.loan_status, kde=True, bins=10)\n",
    "plt.title('Segmented Univariate Analysis (Debt to Income Ratio)', fontsize=15)\n",
    "plt.xlabel('Debt to Income Ratio', fontsize=15)\n",
    "plt.ylabel('Count', fontsize=15)\n",
    "plt.show()"
   ]
  },
  {
   "cell_type": "markdown",
   "id": "bb6692c9",
   "metadata": {},
   "source": [
    "**Inference: <font color=\"blue\">Loan defaults are highest with Debt to Income Ratio between `10` to `20` </font>**"
   ]
  },
  {
   "cell_type": "code",
   "execution_count": null,
   "id": "f7573430",
   "metadata": {
    "scrolled": false
   },
   "outputs": [],
   "source": [
    "# Plot Countplot graph for employee length column to find Univariate Analysis\n",
    "plt.figure(figsize=(10,5))\n",
    "sns.countplot(x='emp_length', data=loan_df, hue=loan_df.loan_status, order = loan_df.emp_length.value_counts().index, palette='viridis')\n",
    "plt.title(\"Segmented Univariate Analysis (Employee Length)\", fontsize=20)\n",
    "plt.xlabel(\"Years of Experience\", fontsize=15)\n",
    "plt.ylabel(\"Count\", fontsize=15)"
   ]
  },
  {
   "cell_type": "markdown",
   "id": "60376060",
   "metadata": {},
   "source": [
    "**Inference: <font color=\"blue\">Maximum borrowers are having higher experience i.e. greater than 10 years and maximum defaulters are for the same experience range</font>**"
   ]
  },
  {
   "cell_type": "code",
   "execution_count": null,
   "id": "769842f4",
   "metadata": {
    "scrolled": false
   },
   "outputs": [],
   "source": [
    "# Plot Countplot graph for grade column to find Univariate Analysis\n",
    "plt.figure(figsize = (10,5))\n",
    "sns.countplot(x='grade', data=loan_df, palette='spring', order=loan_df.grade.value_counts().index, hue=loan_df.loan_status)\n",
    "plt.title(\"Segmented Univariate Analysis (Grade)\", fontsize=20)\n",
    "plt.xlabel(\"Grade\", fontsize=15)\n",
    "plt.ylabel(\"Count\", fontsize=15)"
   ]
  },
  {
   "cell_type": "markdown",
   "id": "11c50074",
   "metadata": {},
   "source": [
    "**Inference**:\n",
    "- **<font color=\"blue\">High number of loans are taken by borrowers with grade `B` and `A`& Less number of loans are taken by borrowers with grade `G` and `F`</font>**\n",
    "- **<font color=\"blue\">High percentage of defaulters are from grade `B`, `C` and `D`. So person from grade `A` is healthy Grade or borrowers to lend </font>**"
   ]
  },
  {
   "cell_type": "code",
   "execution_count": null,
   "id": "efdda836",
   "metadata": {
    "scrolled": false
   },
   "outputs": [],
   "source": [
    "# Plot Countplot graph for verification_status column to find Univariate Analysis\n",
    "plt.figure(figsize=(10,5))\n",
    "sns.countplot(x='verification_status', data=loan_df, order=loan_df.verification_status.value_counts(ascending=False).index, hue=loan_df.loan_status, palette='spring')\n",
    "plt.title(\"Segmented Univariate Analysis (Verification Status)\", fontsize=20)\n",
    "plt.xlabel(\"Verification Status\", fontsize=15)\n",
    "plt.ylabel(\"Count\", fontsize=15)"
   ]
  },
  {
   "cell_type": "markdown",
   "id": "4465450d",
   "metadata": {},
   "source": [
    "**Inference: <font color=\"blue\">More than `50%` borrowers are verified by the companies. But surprisingly more defaulters are verified borrowers this shows loop holes in verification process</font>**"
   ]
  },
  {
   "cell_type": "code",
   "execution_count": null,
   "id": "028a9456",
   "metadata": {
    "scrolled": false
   },
   "outputs": [],
   "source": [
    "# Plot Catplot graph for term column to find Univariate Analysis\n",
    "plt.figure(figsize=(10,5))\n",
    "x,y = 'term', 'loan_status'\n",
    "term_df = loan_df.groupby(x)[y].value_counts(normalize=True).mul(100)\n",
    "term_df = term_df.rename('percent').reset_index()\n",
    "sns.catplot(x=x, y='percent', hue=y, kind='bar', data=term_df)\n",
    "plt.title(\"Segmented Univariate Analysis (Loan Tenure)\", fontsize=15)\n",
    "plt.xlabel(\"Tenure\", fontsize=15)\n",
    "plt.ylabel(\"Percentage\", fontsize=15)"
   ]
  },
  {
   "cell_type": "markdown",
   "id": "f98c8647",
   "metadata": {},
   "source": [
    "**Inference: <font color=\"blue\">Defaults percentage is `high` for tenure of `60 months` than tenure of `36 months`. So to lend loan for less duration is recommended</font>**"
   ]
  },
  {
   "cell_type": "code",
   "execution_count": null,
   "id": "8cde42a6",
   "metadata": {
    "scrolled": false
   },
   "outputs": [],
   "source": [
    "# Plot Countplot graph for purpose column to find Univariate Analysis\n",
    "plt.figure(figsize=(10,5))\n",
    "sns.countplot(y='purpose', data=loan_df, hue=loan_df.loan_status, order=loan_df.purpose.value_counts().index, palette='spring')\n",
    "plt.title(\"Segmented Univariate Analysis (Loans based on Purpose)\", fontsize=20)\n",
    "plt.ylabel(\"Purpose\", fontsize=15)\n",
    "plt.xlabel(\"Count\", fontsize=15)"
   ]
  },
  {
   "cell_type": "markdown",
   "id": "1facfb7f",
   "metadata": {},
   "source": [
    "**Inference: <font color=\"blue\">Maximum loans are borrowed for the purpose of Debt Consolidation of multiple loans and defaults are also more for same purpose</font>**"
   ]
  },
  {
   "cell_type": "code",
   "execution_count": null,
   "id": "832fe03b",
   "metadata": {},
   "outputs": [],
   "source": [
    "# Plot Countplot graph for addr_state column to find Univariate Analysis\n",
    "plt.figure(figsize=(15,5))\n",
    "sns.countplot(x='addr_state', data=loan_df, hue=loan_df.loan_status, order=loan_df.addr_state.value_counts().index, palette='dark')\n",
    "plt.title(\"Segmented Univariate Analysis (Loans based on State)\", fontsize=20)\n",
    "plt.xlabel(\"Adderess State\", fontsize=15)\n",
    "plt.ylabel(\"Count\", fontsize=15)"
   ]
  },
  {
   "cell_type": "markdown",
   "id": "0952f91c",
   "metadata": {},
   "source": [
    "**Inference: <font color=\"blue\">Maximum borrowers are from state `California`, `NewYork`, `Texas` and `Florida` and defaulters count is also proportionate</font>**"
   ]
  },
  {
   "cell_type": "code",
   "execution_count": null,
   "id": "0f5f3352",
   "metadata": {
    "scrolled": true
   },
   "outputs": [],
   "source": [
    "# Plot Countplot graph for issue_year column to find Univariate Analysis\n",
    "plt.figure(figsize=(10,15))\n",
    "sns.countplot(y='issue_date', data=loan_df, hue=loan_df.loan_status, order=loan_df.issue_date.value_counts().index, palette='spring')\n",
    "plt.title(\"Ordered Categorial Univariate Analysis (Issue Year)\", fontsize=15)\n",
    "plt.xlabel(\"Issue Year\", fontsize=15)\n",
    "plt.ylabel(\"Count\", fontsize=15)"
   ]
  },
  {
   "cell_type": "markdown",
   "id": "f4fc4bd1",
   "metadata": {},
   "source": [
    "**Inference: <font color=\"blue\">Loan Defaults are increasing from 2009 to 2011 may be due to recession</font>**"
   ]
  },
  {
   "cell_type": "code",
   "execution_count": null,
   "id": "603847ff",
   "metadata": {
    "scrolled": false
   },
   "outputs": [],
   "source": [
    "# Plot Countplot graph for issue_month column to find Univariate Analysis\n",
    "plt.figure(figsize=(10,5))\n",
    "sns.countplot(x='issue_month', data=loan_df, palette='spring')\n",
    "plt.title(\"Ordered Categorial Univariate Analysis (Issue Month)\", fontsize=20)\n",
    "plt.xlabel(\"Issue Month\", fontsize=15)\n",
    "plt.ylabel(\"Count\", fontsize=15)"
   ]
  },
  {
   "cell_type": "markdown",
   "id": "a2366ef6",
   "metadata": {},
   "source": [
    "**Inference: <font color=\"blue\">The Volume of Loan borrowing increases at last quarter of the year which indicates borrowers tend to settle there debt consolidations by year end and this results as main purpose for the loan procurement</font>**"
   ]
  },
  {
   "cell_type": "markdown",
   "id": "cc67e6e3",
   "metadata": {},
   "source": [
    "## 4. Bivariate Analysis\n",
    "Analysis between 2 vairables is called Bivariate Analysis\n",
    "- **Bivariate Analysis on Continuous Variables**\n",
    "- **Bivariate Analysis on Categorial Variables**"
   ]
  },
  {
   "cell_type": "markdown",
   "id": "c580d845",
   "metadata": {},
   "source": [
    "### Bivariate Analysis on Continuous Variables"
   ]
  },
  {
   "cell_type": "code",
   "execution_count": null,
   "id": "78ba1573",
   "metadata": {},
   "outputs": [],
   "source": [
    "# Relation between of Loan Amount and Interest rate\n",
    "plt.figure(figsize=(10,5))\n",
    "sns.scatterplot(data=loan_df[(loan_df.loan_status == \"Charged Off\")], x='loan_amnt', y='int_rate', hue='loan_status', palette='spring')\n",
    "plt.xlabel('Loan Amount')\n",
    "plt.ylabel('Interest Rate')\n",
    "plt.title('Bivariate Analysis on Categorical Variables (Loan Amount and Interest Rate )',fontsize=12)\n",
    "plt.show()"
   ]
  },
  {
   "cell_type": "markdown",
   "id": "3b190ba8",
   "metadata": {},
   "source": [
    "**Inference: <font color=\"blue\">Loan Defaults increase with increase in Loan Amount or Interest Rate between `10%` to `17.5%`</font>**"
   ]
  },
  {
   "cell_type": "code",
   "execution_count": null,
   "id": "6f8f203b",
   "metadata": {},
   "outputs": [],
   "source": [
    "# Relation between of Annual Income and Loan Amount\n",
    "plt.figure(figsize=(10,5))\n",
    "sns.scatterplot(data=loan_df[(loan_df.loan_status == \"Charged Off\")], x='annual_inc', y='loan_amnt', hue='loan_status', palette='spring')\n",
    "plt.xlabel('Annual Income')\n",
    "plt.ylabel('Loan Amount')\n",
    "plt.title('Bivariate Analysis on Continuous Variables (Loan Amount and Annual Income )',fontsize=12)\n",
    "plt.show()"
   ]
  },
  {
   "cell_type": "markdown",
   "id": "9262c8e3",
   "metadata": {},
   "source": [
    "**Inference: <font color=\"blue\">Dense loan defaults is visible with `High Loan Amount` and `Low Annual Income`</font>**"
   ]
  },
  {
   "cell_type": "markdown",
   "id": "8d79ce1e",
   "metadata": {},
   "source": [
    "### Bivariate Analysis on Continuous and Categorial Variables"
   ]
  },
  {
   "cell_type": "code",
   "execution_count": null,
   "id": "6e24d8da",
   "metadata": {},
   "outputs": [],
   "source": [
    "# Relationship between Interest rate and grade\n",
    "plt.figure(figsize=(10,5))\n",
    "sns.boxplot(data=loan_df,x='int_rate',y='grade')\n",
    "plt.xlabel('Interest Rate')\n",
    "plt.ylabel('Grade')\n",
    "plt.title('Bivariate Analysis (Interest Rate and Grade)',fontsize=15)\n",
    "plt.show()"
   ]
  },
  {
   "cell_type": "markdown",
   "id": "31d71650",
   "metadata": {},
   "source": [
    "**Inference: <font color=\"blue\">Higher Interest Rate are assigned to borrowers with Higher Grade from `A - G` </font>**"
   ]
  },
  {
   "cell_type": "markdown",
   "id": "ccf6d32b",
   "metadata": {},
   "source": [
    "### Bivariate Analysis on Categorial Variables"
   ]
  },
  {
   "cell_type": "code",
   "execution_count": null,
   "id": "420d3279",
   "metadata": {},
   "outputs": [],
   "source": [
    "# Creating Segment for Bivariate Analysis\n",
    "loan_inc_groups_df = loan_df[['pub_rec_bankruptcies']].copy()\n",
    "loan_inc_groups_df['annual_inc_groups'] = pd.cut(loan_df.annual_inc, bins=5, precision=0, labels=['3k-31k','31k-58k','58k-85k','85k-112k','112k-140k'])"
   ]
  },
  {
   "cell_type": "code",
   "execution_count": null,
   "id": "e19e058b",
   "metadata": {
    "scrolled": false
   },
   "outputs": [],
   "source": [
    "# Relationship between Annual income and Public Record Banckrupcy\n",
    "plt.figure(figsize=(10,5))\n",
    "sns.lineplot(x=loan_inc_groups_df.annual_inc_groups, y=loan_inc_groups_df.pub_rec_bankruptcies.astype('category'), hue=loan_df.loan_status)\n",
    "plt.xlabel('Annual Income')\n",
    "plt.ylabel('Public Record Bankruptcies')\n",
    "plt.title('Public Record Bankruptcies Vs Annual Income',fontsize=15)\n",
    "plt.show()"
   ]
  },
  {
   "cell_type": "markdown",
   "id": "3835557a",
   "metadata": {
    "collapsed": true
   },
   "source": [
    "**Inference: <font color=\"blue\">Borrowers having no public record bankrupcy usually are not defaulters </font>**"
   ]
  },
  {
   "cell_type": "code",
   "execution_count": null,
   "id": "95137513",
   "metadata": {},
   "outputs": [],
   "source": [
    "# Relationship between Grade and Years of Experience\n",
    "plt.figure(figsize=(10,5))\n",
    "sns.displot(data=loan_df[(loan_df.loan_status == \"Charged Off\")], x=\"grade\", y='emp_length')\n",
    "plt.xlabel('Grade')\n",
    "plt.ylabel('Years of Experience')\n",
    "plt.title('Bivariate Analysis on Categorial Variables (Grade and Years of Experience)',fontsize=15)\n",
    "plt.show()"
   ]
  },
  {
   "cell_type": "markdown",
   "id": "bfb86a7c",
   "metadata": {},
   "source": [
    "**Inference: <font color=\"blue\">Higher Interest Rate are assigned to borrowers with Higher Grade from `A - G` </font>**"
   ]
  },
  {
   "cell_type": "markdown",
   "id": "d8b98d7f",
   "metadata": {},
   "source": [
    "## 5. Data-Deriven Metrics\n",
    "Create variables using correlationship between variables"
   ]
  },
  {
   "cell_type": "code",
   "execution_count": null,
   "id": "af6f1985",
   "metadata": {},
   "outputs": [],
   "source": [
    "# Deriving the columns for generating correlation\n",
    "loan_df_for_corr = loan_df[['loan_status', 'loan_amnt', 'int_rate', 'annual_inc', 'dti', 'emp_length', 'verification_status', 'pub_rec_bankruptcies', 'issue_month', 'issue_year']].copy()\n",
    "loan_df_for_corr['term'] = loan_df.term.apply(lambda x: str(x).replace(\"months\", \"\")).astype('float')\n",
    "loan_df_for_corr['loan_status'] = loan_df.loan_status.apply(lambda x: 1 if str(x) == \"Charged Off\" else 0 ).astype('float')\n",
    "loan_df_for_corr['verification_status'] = loan_df.verification_status.apply(lambda x: 1 if str(x) == \"Verified\" else 0 ).astype('float')"
   ]
  },
  {
   "cell_type": "code",
   "execution_count": null,
   "id": "08ae218e",
   "metadata": {},
   "outputs": [],
   "source": [
    "plt.figure(figsize=(15,10))\n",
    "sns.heatmap(data=loan_df_for_corr.corr(), annot=True)\n",
    "plt.show()"
   ]
  },
  {
   "cell_type": "code",
   "execution_count": null,
   "id": "8b13791e",
   "metadata": {},
   "outputs": [],
   "source": []
  },
  {
   "cell_type": "code",
   "execution_count": null,
   "id": "e3052b9a",
   "metadata": {},
   "outputs": [],
   "source": [
    "loan_df_for_corr.shape"
   ]
  },
  {
   "cell_type": "code",
   "execution_count": null,
   "id": "512cfa62",
   "metadata": {},
   "outputs": [],
   "source": []
  },
  {
   "cell_type": "code",
   "execution_count": null,
   "id": "ac28c341",
   "metadata": {},
   "outputs": [],
   "source": []
  },
  {
   "cell_type": "code",
   "execution_count": null,
   "id": "4b5ea477",
   "metadata": {},
   "outputs": [],
   "source": []
  },
  {
   "cell_type": "code",
   "execution_count": null,
   "id": "e942847b",
   "metadata": {},
   "outputs": [],
   "source": []
  },
  {
   "cell_type": "code",
   "execution_count": null,
   "id": "1ed5ae24",
   "metadata": {},
   "outputs": [],
   "source": []
  },
  {
   "cell_type": "code",
   "execution_count": null,
   "id": "e47e7a28",
   "metadata": {},
   "outputs": [],
   "source": []
  },
  {
   "cell_type": "code",
   "execution_count": null,
   "id": "47ea6d93",
   "metadata": {},
   "outputs": [],
   "source": []
  }
 ],
 "metadata": {
  "kernelspec": {
   "display_name": "Python 3 (ipykernel)",
   "language": "python",
   "name": "python3"
  },
  "language_info": {
   "codemirror_mode": {
    "name": "ipython",
    "version": 3
   },
   "file_extension": ".py",
   "mimetype": "text/x-python",
   "name": "python",
   "nbconvert_exporter": "python",
   "pygments_lexer": "ipython3",
   "version": "3.11.3"
  }
 },
 "nbformat": 4,
 "nbformat_minor": 5
}
